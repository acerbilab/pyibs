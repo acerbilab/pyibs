{
 "cells": [
  {
   "attachments": {},
   "cell_type": "markdown",
   "metadata": {},
   "source": [
    "### Example script for running the basic IBS implementation\n",
    "We use data generated from simple discrimination orientation model and calculate its log-likelihood using IBS.\n",
    "Because the analytical log-likelihood of this model is available, one can compare the results and verify the unbiasdness of the IBS estimator."
   ]
  },
  {
   "cell_type": "code",
   "execution_count": 3,
   "metadata": {},
   "outputs": [],
   "source": [
    "import numpy as np\n",
    "import numpy.random as npr\n",
    "import matplotlib.pyplot as plt\n",
    "from ibs_simple import ibs_basic\n",
    "from psycho_gen import psycho_gen\n",
    "from psycho_nll import psycho_nll"
   ]
  },
  {
   "cell_type": "code",
   "execution_count": 5,
   "metadata": {},
   "outputs": [],
   "source": [
    "# Generate simulated dataset\n",
    "\n",
    "Ntrials = 600\n",
    "eta = np.log(1)  # Fake subject (log) sensory noise\n",
    "bias = 0.2  # Fake subject response bias\n",
    "lapse = 0.03  # Fake subject lapse rate\n",
    "# Generating parameter vector\n",
    "theta_true = np.array([eta, bias, lapse])\n",
    "\n",
    "# Generate stimulus orientation per trial\n",
    "S = 3 * npr.rand(Ntrials)\n",
    "\n",
    "# Generate fake subject responses\n",
    "R = psycho_gen(theta_true, S)"
   ]
  },
  {
   "cell_type": "code",
   "execution_count": 6,
   "metadata": {},
   "outputs": [
    {
     "name": "stdout",
     "output_type": "stream",
     "text": [
      "exact log-likelihood: -205.03274671128028\n",
      "log-likelihood obtained with IBS: -190.26943332711636\n"
     ]
    }
   ],
   "source": [
    "# Comparing estimated result to true value\n",
    "print(\"exact log-likelihood:\", -psycho_nll(theta_true, S, R))\n",
    "print(\"log-likelihood obtained with IBS:\", ibs_basic(psycho_gen, theta_true, R, S))"
   ]
  },
  {
   "attachments": {},
   "cell_type": "markdown",
   "metadata": {},
   "source": [
    "I want to check the unbiasedness of the estimator by demonstrating that the log-likelihood estimates are centred on the true value.\n",
    "The bias function calculates 1000 log-likelihood estimates and returns an array with the difference between the estimates and the true value. A histogram of these estimates is then plotted. It can be seen that the distribution is centred around 0 and approximately Gaussian."
   ]
  },
  {
   "cell_type": "code",
   "execution_count": 7,
   "metadata": {},
   "outputs": [],
   "source": [
    "def bias(Ntrials, theta, nreps=1000):\n",
    "    \"\"\"Retrun the bias of the IBS estimator\n",
    "\n",
    "    Inputs:\n",
    "    Ntrials: int\n",
    "        number of trials for which to calculate the bias of the IBS estimator\n",
    "    theta: np.array with 3 elements\n",
    "        model parameter vector, with theta(0) as eta=log(sigma), the log of the sensory noise,\n",
    "        theta(1) as the bias term,\n",
    "        theta(2) as the lapse rate\n",
    "    nreps: int, optional\n",
    "        number of repetitions to calculate the bias\n",
    "\n",
    "    Returns:\n",
    "    b: np.array\n",
    "        bias (estimate - true value) of the IBS estimator\n",
    "        vector of length nreps\n",
    "    \"\"\"\n",
    "\n",
    "    # Generate stimulus orientation per trial\n",
    "    S = 3 * npr.rand(Ntrials)\n",
    "    R = psycho_gen(theta, S)\n",
    "    # Calculate bias = estimate - true value\n",
    "    b = np.zeros(nreps)\n",
    "    for i in range(nreps):\n",
    "        L = psycho_nll(theta, S, R)\n",
    "        b[i] = L + ibs_basic(psycho_gen, theta, R, S)\n",
    "    return b"
   ]
  },
  {
   "cell_type": "code",
   "execution_count": 8,
   "metadata": {},
   "outputs": [
    {
     "name": "stdout",
     "output_type": "stream",
     "text": [
      "The mean of the bias is -0.04159362353272962\n"
     ]
    },
    {
     "data": {
      "image/png": "[encoded data removed]",
      "text/plain": [
       "<Figure size 432x288 with 1 Axes>"
      ]
     },
     "metadata": {
      "needs_background": "light"
     },
     "output_type": "display_data"
    }
   ],
   "source": [
    "b = bias(Ntrials, theta_true)\n",
    "plt.hist(b, bins=50, density=True)\n",
    "plt.title(\"Distribution of the bias\")\n",
    "print(\"The mean of the bias is\", np.mean(b))"
   ]
  }
 ],
 "metadata": {
  "kernelspec": {
   "display_name": "base",
   "language": "python",
   "name": "python3"
  },
  "language_info": {
   "codemirror_mode": {
    "name": "ipython",
    "version": 3
   },
   "file_extension": ".py",
   "mimetype": "text/x-python",
   "name": "python",
   "nbconvert_exporter": "python",
   "pygments_lexer": "ipython3",
   "version": "3.9.7"
  },
  "orig_nbformat": 4
 },
 "nbformat": 4,
 "nbformat_minor": 2
}
