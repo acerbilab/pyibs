{
 "cells": [
  {
   "attachments": {},
   "cell_type": "markdown",
   "metadata": {},
   "source": [
    "### Example script for running IBS\n",
    "Example 1:\n",
    "We use data generated from simple discrimination orientation model and calculate its log-likelihood using IBS.\n",
    "Because the analytical log-likelihood of this model is available, one can compare the results and verify the unbiasdness of the IBS estimator."
   ]
  },
  {
   "cell_type": "code",
   "execution_count": 2,
   "metadata": {},
   "outputs": [],
   "source": [
    "import numpy as np\n",
    "import numpy.random as npr\n",
    "import matplotlib.pyplot as plt\n",
    "from ibs import IBS\n",
    "from psycho_gen import psycho_gen\n",
    "from psycho_nll import psycho_nll"
   ]
  },
  {
   "cell_type": "code",
   "execution_count": 3,
   "metadata": {},
   "outputs": [
    {
     "name": "stdout",
     "output_type": "stream",
     "text": [
      "estimated negative log-likelihood 243.73771084861622\n",
      "estimated variance 18.34524740673188\n",
      "estimated negative log-likelihood (loop) 236.4249864138636\n",
      "estimated variance (loop) 17.745912720071857\n",
      "exact log-likelihood 241.61761351081134\n",
      "-------------------------------------------\n",
      "                 nlogl: 241.90178413192885\n",
      "             nlogl_var: 18.307143699545378\n",
      "             nlogl_std: 4.27868480955835\n",
      "             exit_flag: 0\n",
      "               message: 'correct termination (the estimate is unbiased)'\n",
      "          elapsed_time: 0.01706930000000284\n",
      " num_samples_per_trial: 1.9083333333333334\n",
      "             fun_count: 8\n"
     ]
    }
   ],
   "source": [
    "# Psychometric funtion model of a simple orientation discrimination task\n",
    "\n",
    "fun = psycho_gen\n",
    "Ntrials = 600\n",
    "eta = np.log(1)  # Fake subject (log) sensory noise\n",
    "bias = 0.2  # Fake subject response bias\n",
    "lapse = 0.03  # Fake subject lapse rate\n",
    "# Generating parameter vector\n",
    "params = np.array([eta, bias, lapse])\n",
    "\n",
    "# Generate stimulus orientation per trial\n",
    "design_mat = 3 * npr.rand(Ntrials)\n",
    "# Generate fake subject responses\n",
    "resp_mat = psycho_gen(params, design_mat)\n",
    "\n",
    "# create an ibs object and set up most of the options\n",
    "\n",
    "# IBS object with vectorized computation\n",
    "ibs = IBS(\n",
    "    fun,\n",
    "    resp_mat,\n",
    "    design_mat,\n",
    "    vectorized=True,\n",
    "    acceleration=1.5,\n",
    "    num_samples_per_call=0,\n",
    "    max_iter=int(1e5),\n",
    "    max_time=np.inf,\n",
    ")\n",
    "# IBS object with loop computation\n",
    "ibs_loop = IBS(\n",
    "    fun,\n",
    "    resp_mat,\n",
    "    design_mat,\n",
    "    vectorized=False,\n",
    "    acceleration=1.5,\n",
    "    num_samples_per_call=0,\n",
    "    max_iter=int(1e5),\n",
    "    max_time=np.inf,\n",
    ")\n",
    "\n",
    "# Call the IBS object to compute an estimate. We can pass additional options like what additional output we want\n",
    "nlogl, nlogl_var = ibs(\n",
    "    params,\n",
    "    num_reps=10,\n",
    "    trial_weights=None,\n",
    "    additional_output=\"var\",\n",
    "    return_positive=False,\n",
    ")\n",
    "nlogl_loop, nlogl_var_loop = ibs_loop(\n",
    "    params,\n",
    "    num_reps=10,\n",
    "    trial_weights=None,\n",
    "    additional_output=\"var\",\n",
    "    return_positive=False,\n",
    ")\n",
    "output = ibs(\n",
    "    params,\n",
    "    num_reps=10,\n",
    "    trial_weights=None,\n",
    "    additional_output=\"full\",\n",
    "    return_positive=False,\n",
    ")\n",
    "\n",
    "\n",
    "# Comparing estimated results to the true value\n",
    "print(\"estimated negative log-likelihood\", nlogl)\n",
    "print(\"estimated variance\", nlogl_var)\n",
    "print(\"estimated negative log-likelihood (loop)\", nlogl_loop)\n",
    "print(\"estimated variance (loop)\", nlogl_var_loop)\n",
    "print(\"exact log-likelihood\", psycho_nll(params, design_mat, resp_mat))\n",
    "print(\"-------------------------------------------\")\n",
    "print(output)"
   ]
  },
  {
   "attachments": {},
   "cell_type": "markdown",
   "metadata": {},
   "source": [
    "We want to check the unbiasedness of the estimator by demonstrating that the log-likelihood estimates are centred on the true value.\n",
    "For 1000 different values of the parameter theta the estimate of the log-likelihood and its standard deviation are calculated using IBS and then the standard score (z-score) of the estimate is calculated. A histogram of the z-scores is plotted. The z-scores should approximate a standard normal distribution (mean 0, SD 1)."
   ]
  },
  {
   "cell_type": "code",
   "execution_count": 18,
   "metadata": {},
   "outputs": [
    {
     "data": {
      "image/png": "[encoded data removed]",
      "text/plain": [
       "<Figure size 432x288 with 1 Axes>"
      ]
     },
     "metadata": {
      "needs_background": "light"
     },
     "output_type": "display_data"
    }
   ],
   "source": [
    "fun = psycho_gen\n",
    "Ntrials = 600\n",
    "eta = np.linspace(np.log(0.01), np.log(1), num=10)\n",
    "bias = np.linspace(0.05, 0.3, num=10)\n",
    "lapse = np.linspace(0.005, 0.05, num=10)\n",
    "params = np.array(np.meshgrid(eta, bias, lapse)).T.reshape(-1, 3)\n",
    "dmat = 3 * npr.rand(Ntrials)\n",
    "Nexps = params.shape[0]\n",
    "zscores = np.zeros(Nexps)\n",
    "\n",
    "for i in range(Nexps):\n",
    "    rmat = psycho_gen(params[i], dmat)\n",
    "    ibs = IBS(\n",
    "        fun,\n",
    "        rmat,\n",
    "        dmat,\n",
    "        vectorized=True,\n",
    "        acceleration=1.5,\n",
    "        num_samples_per_call=0,\n",
    "        max_iter=int(1e5),\n",
    "        max_time=np.inf,\n",
    "    )\n",
    "    nlogl, nlogl_std = ibs(\n",
    "        params[i],\n",
    "        num_reps=10,\n",
    "        trial_weights=None,\n",
    "        additional_output=\"std\",\n",
    "        return_positive=True,\n",
    "    )\n",
    "    nlogl_exact = psycho_nll(params[i], dmat, rmat)\n",
    "    zscores[i] = (nlogl_exact + nlogl) / nlogl_std\n",
    "\n",
    "\n",
    "plt.hist(zscores, bins=16, density=False)\n",
    "# plot standard normal distribution in the same graph\n",
    "x = np.linspace(-5, 5, 100)\n",
    "plt.plot(\n",
    "    x, (Nexps * 5 / 6) * np.exp(-(x**2) / 2) / np.sqrt(2 * np.pi) / 2, color=\"red\"\n",
    ")\n",
    "plt.show()\n",
    "\n",
    "if np.abs(np.mean(zscores)) > 0.15:\n",
    "    print(\"Warning: the mean of the z-scores is not close to zero\")\n",
    "if np.abs(np.std(zscores) - 1) > 0.1:\n",
    "    print(\"Warning: the standard deviation of the z-scores is not close to one\")"
   ]
  },
  {
   "attachments": {},
   "cell_type": "markdown",
   "metadata": {},
   "source": [
    "Example 2: Binomial Model <br>\n",
    "Using IBS to compute log(p) of Bernoulli distribution with 1000 repeats. One can observe that the IBS estimates are close to the true value and calibrated.\n"
   ]
  },
  {
   "cell_type": "code",
   "execution_count": 14,
   "metadata": {},
   "outputs": [
    {
     "data": {
      "image/png": "[encoded data removed]",
      "text/plain": [
       "<Figure size 432x288 with 1 Axes>"
      ]
     },
     "metadata": {
      "needs_background": "light"
     },
     "output_type": "display_data"
    }
   ],
   "source": [
    "Nreps = 1000\n",
    "\n",
    "# Binomial probability model\n",
    "p_model = np.exp(np.linspace(np.log(0.01), np.log(1), num=10))\n",
    "\n",
    "\n",
    "def fun(x, dmat):\n",
    "    if dmat is None:\n",
    "        return int(np.random.rand(1) < x)\n",
    "    else:\n",
    "        return np.vectorize(int)(np.random.rand(dmat.size) < x)\n",
    "\n",
    "\n",
    "rmat = fun(1, None)\n",
    "nlogl = np.zeros(len(p_model))\n",
    "nlogl_std = np.zeros(len(p_model))\n",
    "ibs = IBS(\n",
    "    fun,\n",
    "    rmat,\n",
    "    None,\n",
    "    vectorized=True,\n",
    "    acceleration=1.5,\n",
    "    num_samples_per_call=0,\n",
    "    max_iter=int(1e5),\n",
    "    max_time=np.inf,\n",
    ")\n",
    "\n",
    "for i in range(len(p_model)):\n",
    "    nlogl[i], nlogl_std[i] = ibs(\n",
    "        p_model[i],\n",
    "        num_reps=Nreps,\n",
    "        trial_weights=None,\n",
    "        additional_output=\"std\",\n",
    "        return_positive=True,\n",
    "    )\n",
    "\n",
    "# We expect the true value to be almost certainly in this range\n",
    "LL_min = nlogl - 4 * nlogl_std\n",
    "LL_max = nlogl + 4 * nlogl_std\n",
    "if np.any(np.log(p_model) < LL_min) or np.any(np.log(p_model) > LL_max):\n",
    "    print(\"Warning: true value is not in the confidence interval\")\n",
    "\n",
    "plt.plot(np.log(p_model), np.log(p_model), color=\"black\")\n",
    "plt.plot(np.log(p_model), nlogl, color=\"red\")\n",
    "plt.fill_between(\n",
    "    np.log(p_model),\n",
    "    nlogl - 1.96 * nlogl_std,\n",
    "    nlogl + 1.96 * nlogl_std,\n",
    "    color=\"red\",\n",
    "    alpha=0.1,\n",
    ")\n",
    "plt.legend([\"True log(p)\", \"Estimated log(p) (95% CI)\"])\n",
    "plt.show()"
   ]
  },
  {
   "attachments": {},
   "cell_type": "markdown",
   "metadata": {},
   "source": [
    "We use IBS to compute the log-likelihood of a binomial distribution with 100 trials per each of the 2000 experiments. The z-scores of each estimate are calculated. We can observe that the z-scores follow approximately a standard normal distribution (mean 0, SD 1)."
   ]
  },
  {
   "cell_type": "code",
   "execution_count": 16,
   "metadata": {},
   "outputs": [
    {
     "data": {
      "image/png": "[encoded data removed]",
      "text/plain": [
       "<Figure size 432x288 with 1 Axes>"
      ]
     },
     "metadata": {
      "needs_background": "light"
     },
     "output_type": "display_data"
    }
   ],
   "source": [
    "Ntrials = 100\n",
    "\n",
    "# Binomial probability model\n",
    "p_model = 0.9 * np.random.rand() + 0.05\n",
    "p_true = 0.9 * np.random.rand() + 0.05\n",
    "\n",
    "\n",
    "def fun(x, dmat):\n",
    "    if dmat is None:\n",
    "        return int(np.random.rand(1) < x)\n",
    "    else:\n",
    "        return np.random.rand(np.size(dmat)) < x\n",
    "\n",
    "\n",
    "Nexps = 2 * 10**3\n",
    "zscores = np.zeros(Nexps)\n",
    "for i in range(Nexps):\n",
    "    rmat = fun(p_true, np.zeros(Ntrials))\n",
    "    ibs = IBS(\n",
    "        fun,\n",
    "        rmat,\n",
    "        None,\n",
    "        vectorized=True,\n",
    "        acceleration=1.5,\n",
    "        num_samples_per_call=0,\n",
    "        max_iter=int(1e5),\n",
    "        max_time=np.inf,\n",
    "    )\n",
    "    nlogl, nlogl_std = ibs(\n",
    "        p_model,\n",
    "        num_reps=10,\n",
    "        trial_weights=None,\n",
    "        additional_output=\"std\",\n",
    "        return_positive=True,\n",
    "    )\n",
    "    nlogl_exact = np.log(p_model) * np.sum(rmat) + np.log(1 - p_model) * np.sum(\n",
    "        rmat == False\n",
    "    )\n",
    "    zscores[i] = (nlogl_exact - nlogl) / nlogl_std\n",
    "plt.hist(zscores, bins=16, density=False)\n",
    "# plot standard normal distribution in the same graph\n",
    "x = np.linspace(-5, 5, 100)\n",
    "plt.plot(\n",
    "    x, (Nexps * 5 / 6) * np.exp(-(x**2) / 2) / np.sqrt(2 * np.pi) / 2, color=\"red\"\n",
    ")\n",
    "plt.show()\n",
    "\n",
    "if np.abs(np.mean(zscores)) > 0.15:\n",
    "    print(\"Warning: the mean of the z-scores is not close to zero\")\n",
    "if np.abs(np.std(zscores) - 1) > 0.1:\n",
    "    print(\"Warning: the standard deviation of the z-scores is not close to one\")"
   ]
  }
 ],
 "metadata": {
  "kernelspec": {
   "display_name": "base",
   "language": "python",
   "name": "python3"
  },
  "language_info": {
   "codemirror_mode": {
    "name": "ipython",
    "version": 3
   },
   "file_extension": ".py",
   "mimetype": "text/x-python",
   "name": "python",
   "nbconvert_exporter": "python",
   "pygments_lexer": "ipython3",
   "version": "3.9.7"
  },
  "orig_nbformat": 4
 },
 "nbformat": 4,
 "nbformat_minor": 2
}
