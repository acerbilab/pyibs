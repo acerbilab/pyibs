{
 "cells": [
  {
   "attachments": {},
   "cell_type": "markdown",
   "metadata": {},
   "source": [
    "### Example script for using IBS to estimate parameters\n",
    "In this example, we fit some simple orientation discrimination data using IBS, BADS and PyVBMC.\n",
    "\n",
    "First, we simulate a synthetic dataset to fit."
   ]
  },
  {
   "cell_type": "code",
   "execution_count": 1,
   "metadata": {},
   "outputs": [],
   "source": [
    "import numpy as np\n",
    "import numpy.random as npr\n",
    "from pybads.bads import BADS\n",
    "from pyvbmc import VBMC\n",
    "from ibs import IBS\n",
    "from psycho_gen import psycho_gen\n",
    "from psycho_nll import psycho_nll"
   ]
  },
  {
   "cell_type": "code",
   "execution_count": 2,
   "metadata": {},
   "outputs": [],
   "source": [
    "fun = psycho_gen\n",
    "num_trials = 600\n",
    "eta = np.log(1)  # Fake subject (log) sensory noise\n",
    "bias = 0.2  # Fake subject response bias\n",
    "lapse = 0.03  # Fake subject lapse rate\n",
    "# Generating parameter vector\n",
    "params = np.array([eta, bias, lapse])\n",
    "\n",
    "# Generate stimulus orientation per trial\n",
    "design_matrix = 3 * npr.rand(num_trials)\n",
    "# Generate fake subject responses\n",
    "response_matrix = psycho_gen(params, design_matrix)\n",
    "\n",
    "# We set the lower/upper bounds for the parameters (in particular, note that\n",
    "# we set a nonzero lower bound for the lapse rate)\n",
    "lb = np.array([np.log(0.1), -2, 0.01])\n",
    "ub = np.array([np.log(10), 2, 1])\n",
    "\n",
    "# We also set the \"plausible\" lower/upper bounds representing where we\n",
    "# would expect to find most parameters (this is not a prior, it just\n",
    "# identifies a region e.g. for the starting points)\n",
    "plb = np.array([np.log(0.2), -1, 0.02])\n",
    "pub = np.array([np.log(5), 1, 0.15])"
   ]
  },
  {
   "attachments": {},
   "cell_type": "markdown",
   "metadata": {},
   "source": [
    "### Maximum-likelihood estimation (MLE)\n",
    "\n",
    "We fit the data via maximum-likelihood estimation using Bayesian Adaptive  Direct Search (BADS), a particularly effective optimization algorithm for noisy target functions.\n",
    "\n",
    "We define the negative log-likelihood function via a call to IBS.\n",
    "We set 10 reps for the IBS estimator. We also tell IBS to return as a second output the standard deviation  of the estimate (as opposed to the variance)."
   ]
  },
  {
   "cell_type": "code",
   "execution_count": 3,
   "metadata": {},
   "outputs": [],
   "source": [
    "ibs = IBS(\n",
    "    fun,\n",
    "    response_matrix,\n",
    "    design_matrix,\n",
    "    vectorized=True,\n",
    "    acceleration=1.5,\n",
    "    num_samples_per_call=0,\n",
    "    max_iter=int(1e5),\n",
    "    max_time=np.inf,\n",
    ")\n",
    "target = lambda theta: ibs(theta, additional_output=\"std\")\n",
    "\n",
    "# As a starting point for the optimization, we draw a sample inside the\n",
    "# plausible box (in practice you should use multiple restarts!)\n",
    "theta0 = plb + npr.rand(3) * (pub - plb)\n",
    "\n",
    "# We inform BADS that IBS returns noise estimate (standard deviation) as second output\n",
    "bads_options = {\"specify_target_noise\": True, \"uncertainty_handling\": True}"
   ]
  },
  {
   "cell_type": "code",
   "execution_count": 4,
   "metadata": {},
   "outputs": [
    {
     "name": "stdout",
     "output_type": "stream",
     "text": [
      "Beginning optimization of a DETERMINISTIC objective function\n",
      "\n",
      " Iteration    f-count         f(x)           MeshScale          Method             Actions\n",
      "     0           2         265.287               1                                 Uncertainty test\n",
      "     0           6         226.837               1         Initial mesh            Initial points\n",
      "     0          11         226.837             0.5         Refine grid             Train\n",
      "     1          12           214.6             0.5     Successful search (ES-wcm)        \n",
      "     1          17         210.358             0.5     Successful search (ES-wcm)        \n",
      "     1          21          207.65             0.5     Successful search (ES-wcm)        \n",
      "     1          26         205.634             0.5     Successful search (ES-ell)        \n",
      "     1          27          205.01             0.5     Successful search (ES-ell)        \n",
      "     1          28         204.733             0.5     Incremental search (ES-ell)        \n",
      "     1          30          204.42             0.5     Incremental search (ES-ell)        \n",
      "     1          36          204.42            0.25         Refine grid             \n",
      "     2          45          204.42           0.125         Refine grid             Train\n",
      "     3          46          204.42           0.125     Incremental search (ES-ell)        \n",
      "     3          47          204.42           0.125     Incremental search (ES-ell)        \n",
      "     3          49          204.42           0.125     Incremental search (ES-ell)        \n",
      "     3          54          204.42          0.0625         Refine grid             Train\n"
     ]
    },
    {
     "name": "stderr",
     "output_type": "stream",
     "text": [
      "c:\\Users\\julia\\anaconda3\\lib\\site-packages\\scipy\\stats\\_morestats.py:1805: RuntimeWarning: invalid value encountered in subtract\n",
      "  x = x - np.median(x)\n"
     ]
    },
    {
     "name": "stdout",
     "output_type": "stream",
     "text": [
      "     4          63          204.42        0.015625         Refine grid             Train\n",
      "     5          72          204.42      0.00390625         Refine grid             Train\n",
      "Optimization terminated: change in the function value less than options.TolFun.\n",
      "Function value at minimum: 204.4195882702759\n",
      "\n",
      "Beginning optimization of a STOCHASTIC objective function (specified noise)\n",
      "\n",
      " Iteration    f-count      E[f(x)]        SD[f(x)]           MeshScale          Method              Actions\n",
      "     0           1         267.139         3.89226               1                                  \n",
      "     0          33         209.438         3.89226               1          Initial mesh            Initial points\n",
      "     0          38         209.438         3.97429             0.5          Refine grid             Train\n",
      "     1          39         207.558         1.88719             0.5      Successful search (ES-wcm)        \n",
      "     1          43         205.913         1.67406             0.5      Successful search (ES-wcm)        \n",
      "     1          56         205.913         1.67406            0.25          Refine grid             Train\n",
      "     2          58         209.153        0.917136            0.25      Successful search (ES-wcm)        \n",
      "     2          70         209.153        0.917136           0.125          Refine grid             Train\n",
      "     3          71         210.732        0.626014           0.125      Successful search (ES-ell)        \n",
      "     3          74         210.138        0.867213           0.125      Successful search (ES-wcm)        \n",
      "     3          78          209.62        0.702874           0.125      Successful search (ES-wcm)        \n",
      "     3          82         209.617        0.615666           0.125      Incremental search (ES-ell)        \n",
      "     3          88         209.617        0.615666          0.0625          Refine grid             \n",
      "     4          89         210.174        0.826683          0.0625      Successful search (ES-ell)        \n",
      "     4          91         210.006         0.68683          0.0625      Successful search (ES-ell)        \n",
      "     4          92         209.692        0.854154          0.0625      Successful search (ES-ell)        \n",
      "     4          93         208.183        0.978612          0.0625      Successful search (ES-ell)        \n",
      "     4         106         208.183        0.978612         0.03125          Refine grid             Train\n",
      "     5         107          210.09        0.744223         0.03125      Successful search (ES-ell)        \n",
      "     5         108         208.837        0.970824         0.03125      Successful search (ES-ell)        \n",
      "     5         120         208.837        0.970824        0.015625          Refine grid             \n",
      "     6         121          210.48        0.465347        0.015625      Successful search (ES-ell)        \n",
      "     6         122         210.289         0.50717        0.015625      Successful search (ES-ell)        \n",
      "     6         123         209.811        0.558155        0.015625      Successful search (ES-ell)        \n",
      "     6         124         209.632        0.698538        0.015625      Successful search (ES-ell)        \n",
      "     6         134         209.632        0.698538       0.0078125          Refine grid             Train\n",
      "     7         135         209.773        0.453298       0.0078125      Successful search (ES-wcm)        \n",
      "     7         148         209.773        0.453298      0.00390625          Refine grid             Train\n",
      "     8         149         210.704        0.337431      0.00390625      Successful search (ES-wcm)        \n",
      "     8         150         210.692         0.32522      0.00390625      Successful search (ES-wcm)        \n",
      "     8         162         210.692         0.32522      0.00195312          Refine grid             \n",
      "     9         163         210.827        0.435101      0.00195312      Successful search (ES-wcm)        \n",
      "     9         176         210.827        0.435101     0.000976562          Refine grid             \n",
      "    10         179         211.123        0.325759     0.000976562      Successful search (ES-ell)        \n",
      "    10         182         211.082        0.313695     0.000976562      Successful search (ES-ell)        \n",
      "    10         183         210.956        0.310031     0.000976562      Successful search (ES-ell)        \n",
      "    10         184         210.929        0.306917     0.000976562      Successful search (ES-ell)        \n",
      "    10         185         210.872        0.304112     0.000976562      Successful search (ES-ell)        \n",
      "    10         186         210.858        0.302404     0.000976562      Successful search (ES-ell)        \n",
      "    10         189         210.845        0.292741     0.000976562      Successful search (ES-ell)        \n",
      "    10         190         210.843        0.287264     0.000976562      Successful search (ES-wcm)        \n",
      "    10         191         210.609        0.282466     0.000976562      Successful search (ES-wcm)        \n",
      "    10         192         210.444        0.281066     0.000976562      Successful search (ES-wcm)        \n",
      "    10         202          210.36        0.258385      0.00195312        Successful poll           Train\n",
      "    11         203          210.28        0.257236      0.00195312      Successful search (ES-wcm)        \n",
      "    11         204         210.229        0.260321      0.00195312      Successful search (ES-ell)        \n",
      "    11         205         210.167         0.26577      0.00195312      Successful search (ES-ell)        \n",
      "    11         206         210.121        0.277447      0.00195312      Successful search (ES-ell)        \n",
      "    11         207         210.109        0.279351      0.00195312      Successful search (ES-ell)        \n",
      "    11         208         210.051        0.286228      0.00195312      Successful search (ES-wcm)        \n",
      "    11         210         210.037        0.290585      0.00195312      Successful search (ES-wcm)        \n",
      "    11         211         210.012         0.29495      0.00195312      Successful search (ES-wcm)        \n",
      "    11         212         209.941        0.301331      0.00195312      Successful search (ES-wcm)        \n",
      "    11         213         209.849        0.313872      0.00195312      Successful search (ES-wcm)        \n",
      "    11         215         209.846        0.326316      0.00195312      Successful search (ES-wcm)        \n",
      "    11         216         209.777        0.335063      0.00195312      Successful search (ES-wcm)        \n",
      "    11         217         209.696        0.346089      0.00195312      Successful search (ES-wcm)        \n",
      "    11         218         209.574        0.364216      0.00195312      Successful search (ES-wcm)        \n",
      "    11         228         209.574        0.364216     0.000976562          Refine grid             \n",
      "    12         238           210.3        0.315459     0.000488281          Refine grid             \n",
      "    13         240         210.377        0.330762     0.000488281      Successful search (ES-wcm)        \n",
      "    13         245         210.344        0.310641     0.000488281      Successful search (ES-ell)        \n",
      "    13         247         210.264        0.307678     0.000488281      Successful search (ES-wcm)        \n",
      "    13         260         210.264        0.307678     0.000244141          Refine grid             \n",
      "    14         262         210.233        0.232142     0.000244141      Successful search (ES-ell)        \n",
      "    14         268         210.192        0.211122     0.000244141      Successful search (ES-wcm)        \n",
      "    14         269         210.188        0.211599     0.000244141      Successful search (ES-wcm)        \n",
      "    14         270         210.176        0.211718     0.000244141      Successful search (ES-wcm)        \n",
      "    14         282         210.176        0.211718      0.00012207          Refine grid             Train\n",
      "    15         283         210.459         0.19053      0.00012207      Successful search (ES-wcm)        \n",
      "    15         284         210.457        0.189815      0.00012207      Successful search (ES-wcm)        \n",
      "    15         285         210.438        0.189159      0.00012207      Successful search (ES-ell)        \n",
      "    15         286         210.434        0.188726      0.00012207      Successful search (ES-ell)        \n",
      "    15         290         210.391        0.185936      0.00012207      Successful search (ES-ell)        \n",
      "    15         293         210.358        0.183739      0.00012207      Successful search (ES-wcm)        \n",
      "    15         294         210.332        0.183355      0.00012207      Successful search (ES-wcm)        \n",
      "    15         295          210.26        0.189921      0.00012207      Successful search (ES-ell)        \n",
      "    15         296         210.213        0.189442      0.00012207      Successful search (ES-ell)        \n",
      "    15         308         210.213        0.189442     6.10352e-05          Refine grid             \n",
      "    16         310         210.374        0.179279     6.10352e-05      Successful search (ES-wcm)        \n",
      "    16         311         210.355         0.20674     6.10352e-05      Successful search (ES-wcm)        \n",
      "    16         312         210.324        0.205732     6.10352e-05      Successful search (ES-ell)        \n",
      "    16         313         210.269        0.204718     6.10352e-05      Successful search (ES-ell)        \n",
      "    16         314         210.243        0.204563     6.10352e-05      Successful search (ES-ell)        \n",
      "    16         326         210.243        0.204563     3.05176e-05          Refine grid             \n",
      "    17         336         210.275         0.19329     1.52588e-05          Refine grid             \n",
      "    18         346         209.038         1.68639     3.05176e-05        Successful poll           Train\n",
      "    19         349         205.599          1.6209     3.05176e-05      Successful search (ES-wcm)        \n",
      "    19         352         203.512          1.3367     3.05176e-05      Successful search (ES-wcm)        \n",
      "    19         364         203.512          1.3367     1.52588e-05          Refine grid             Train\n",
      "    20         374         207.794        0.681493     7.62939e-06          Refine grid             Train\n",
      "    21         375         208.012         1.10497     7.62939e-06      Successful search (ES-wcm)        \n",
      "    21         388         208.012         1.10497      3.8147e-06          Refine grid             \n",
      "    22         390         209.137        0.769538      3.8147e-06      Successful search (ES-ell)        \n",
      "    22         402         209.137        0.769538     1.90735e-06          Refine grid             \n",
      "    23         403          208.77        0.491657     1.90735e-06      Successful search (ES-ell)        \n",
      "    23         404         208.597        0.472745     1.90735e-06      Successful search (ES-ell)        \n",
      "    23         405         208.468        0.465315     1.90735e-06      Successful search (ES-ell)        \n",
      "    23         406         208.279        0.477613     1.90735e-06      Successful search (ES-ell)        \n",
      "    23         416         204.733         1.62286      3.8147e-06        Successful poll           \n",
      "    24         426         204.672         1.60438     1.90735e-06          Refine grid             Train\n",
      "    25         436         206.077         1.45537     9.53674e-07          Refine grid             Train\n",
      "Optimization terminated: mesh size less than options.tolmesh.\n",
      "Estimated function value at minimum: 213.2491850687887 ± 1.399273929282022 (mean ± SEM from 10 samples)\n"
     ]
    }
   ],
   "source": [
    "bads_exact = BADS(\n",
    "    lambda theta: psycho_nll(theta, design_matrix, response_matrix),\n",
    "    theta0,\n",
    "    lb,\n",
    "    ub,\n",
    "    plb,\n",
    "    pub,\n",
    ")\n",
    "theta_exact = bads_exact.optimize()\n",
    "\n",
    "bads = BADS(target, theta0, lb, ub, plb, pub, options=bads_options)\n",
    "theta_ibs = bads.optimize()"
   ]
  },
  {
   "attachments": {},
   "cell_type": "markdown",
   "metadata": {},
   "source": [
    "##### Analysis of results"
   ]
  },
  {
   "cell_type": "code",
   "execution_count": 12,
   "metadata": {},
   "outputs": [
    {
     "name": "stdout",
     "output_type": "stream",
     "text": [
      "Returned maximum-likelihood solutions with different methods:\n",
      "Analitical log-likelihood:  [0.07711235 0.070755   0.01000046]\n",
      "IBS log-likelihood:  [-0.13031208  0.07638752  0.09481983]\n",
      "Data generating parameters:  [0.   0.2  0.03]\n",
      "Estimated log-likelihood at the IBS-found solution: -210.32 +/- 1.27 (exact value: -210.34).\n",
      "Log-likelihood at the exact-found solution: -204.42.\n"
     ]
    }
   ],
   "source": [
    "theta_estimated = theta_ibs[\"x\"]\n",
    "print(\"Returned maximum-likelihood solutions with different methods:\")\n",
    "print(\"Analitical log-likelihood: \", theta_exact[\"x\"])\n",
    "print(\"IBS log-likelihood: \", theta_estimated)\n",
    "print(\"Data generating parameters: \", params)\n",
    "\n",
    "neg_logl_ibs, neg_logl_std = ibs(theta_estimated, additional_output=\"std\", num_reps=100)\n",
    "neg_logl_exact = psycho_nll(theta_exact[\"x\"], design_matrix, response_matrix)\n",
    "\n",
    "print(\n",
    "    f\"Estimated log-likelihood at the IBS-found solution: {-neg_logl_ibs:.2f} +/- {neg_logl_std:.2f} (exact value: {-psycho_nll(theta_estimated, design_matrix, response_matrix):.2f}).\"\n",
    ")\n",
    "# We also evaluate the MLE found exactly\n",
    "print(f\"Log-likelihood at the exact-found solution: {-neg_logl_exact:.2f}.\")\n",
    "\n",
    "# Note that even the exact MLE will differ from the true data-generating\n",
    "# parameters due to finiteness of the dataset (we expect to recover the\n",
    "# true data generating parameters in the limit num_trials -> infinity)"
   ]
  },
  {
   "attachments": {},
   "cell_type": "markdown",
   "metadata": {},
   "source": [
    "### Bayesian Posterior Estimation\n",
    "\n",
    "We now fit the same data via a method that computes the Bayesian posterior over model parameters, called Variational Bayesian Monte Carlo (VBMC).\n",
    "\n",
    "For VBMC, we need to return the POSITIVE log-likelihood as first output, and the standard deviation (not variance!) of the estimate as second output."
   ]
  },
  {
   "cell_type": "code",
   "execution_count": 10,
   "metadata": {},
   "outputs": [
    {
     "name": "stdout",
     "output_type": "stream",
     "text": [
      "Reshaping x0 to row vector.\n",
      "Reshaping lower bounds to (1, 3).\n",
      "Reshaping upper bounds to (1, 3).\n",
      "Reshaping plausible lower bounds to (1, 3).\n",
      "Reshaping plausible upper bounds to (1, 3).\n"
     ]
    }
   ],
   "source": [
    "from pyvbmc.priors import Trapezoidal\n",
    "\n",
    "log_likelihood = lambda theta: ibs(\n",
    "    theta, additional_output=\"std\", num_reps=100, return_positive=True\n",
    ")\n",
    "# num_reps = 100 to try and have a SD ~ 1 (and below 3)\n",
    "\n",
    "# Set the lower/upper bounds for the parameters\n",
    "lb = np.array([np.log(0.1), -2, 0.01])\n",
    "ub = np.array([np.log(10), 2, 1])\n",
    "\n",
    "# Set the \"plausible\" lower/upper bounds\n",
    "plb = np.array([np.log(0.2), -1, 0.02])\n",
    "pub = np.array([np.log(5), 1, 0.2])\n",
    "\n",
    "# Trapezoidal or “tent” prior over the parameters (flat between PLB and PUB, and linearly decreasing to 0 towards LB and UB)\n",
    "prior = Trapezoidal(lb, plb, pub, ub)\n",
    "log_prior = lambda x: prior.log_pdf(x)\n",
    "\n",
    "# Here we could use as starting point the result of a run of BADS\n",
    "theta0 = 0.5 * (plb + pub)\n",
    "\n",
    "options = {\"specify_target_noise\": True}\n",
    "vbmc = VBMC(\n",
    "    log_likelihood, theta0, lb, ub, plb, pub, log_prior=log_prior, options=options\n",
    ")"
   ]
  },
  {
   "cell_type": "code",
   "execution_count": 11,
   "metadata": {},
   "outputs": [
    {
     "name": "stdout",
     "output_type": "stream",
     "text": [
      "Beginning variational optimization assuming NOISY observations of the log-joint\n",
      " Iteration  f-count    Mean[ELBO]    Std[ELBO]    sKL-iter[q]   K[q]  Convergence  Action\n",
      "     0         10        -223.56         4.00      4023.83        2        inf     start warm-up\n",
      "     1         15        -210.88         5.80       114.27        2        inf     \n",
      "     2         20        -213.36         0.76        12.12        2        236     \n",
      "     3         25        -213.63         0.59         0.66        2       13.5     \n",
      "     4         30        -213.93         0.45         0.03        2       1.21     \n",
      "     5         35        -214.01         0.38         0.05        2       1.48     \n",
      "     6         40        -213.95         0.34         0.08        2       1.96     end warm-up\n",
      "     7         45        -213.88         0.32         0.11        2       2.49     \n",
      "     8         50        -213.96         0.29         0.01        2      0.484     \n",
      "     9         55        -213.98         0.25         0.02        5       0.69     \n",
      "    10         60        -213.94         0.24         0.02        8      0.727     rotoscale, undo rotoscale\n",
      "    11         65        -213.85         0.24         0.01       11       0.57     \n",
      "    12         70        -213.86         0.22         0.00       14      0.248     \n",
      "    13         75        -213.87         0.21         0.03       17      0.741     \n",
      "    14         80        -213.87         0.20         0.00       17      0.284     \n",
      "    15         85        -213.84         0.19         0.01       16      0.404     \n",
      "    16         90        -213.84         0.19         0.01       15      0.296     \n"
     ]
    },
    {
     "name": "stderr",
     "output_type": "stream",
     "text": [
      "c:\\Users\\julia\\anaconda3\\lib\\site-packages\\cma\\evolution_strategy.py:3829: RuntimeWarning: invalid value encountered in double_scalars\n",
      "  current_fitness_range < opts['tolfunrel'] * (es.fit.median0 - es.fit.median_min),\n"
     ]
    },
    {
     "name": "stdout",
     "output_type": "stream",
     "text": [
      "    17         95        -213.82         0.19         0.00       15      0.238     \n",
      "    18        100        -213.79         0.18         0.01       15      0.431     \n",
      "    19        105        -213.82         0.18         0.00       13      0.276     \n",
      "    20        110        -213.76         0.18         0.01       13      0.348     \n",
      "    21        115        -213.79         0.17         0.00       14      0.204     rotoscale, undo rotoscale\n",
      "    22        120        -213.80         0.17         0.00       15      0.222     stable\n",
      "   inf        120        -213.78         0.17         0.01       50      0.222     finalize\n",
      "Inference terminated: variational solution stable for options.tol_stable_count fcn evaluations.\n",
      "Estimated ELBO: -213.776 +/-0.167.\n"
     ]
    }
   ],
   "source": [
    "# run VBMC\n",
    "\n",
    "np.random.seed(42)\n",
    "vp, results = vbmc.optimize()"
   ]
  },
  {
   "cell_type": "code",
   "execution_count": 12,
   "metadata": {},
   "outputs": [
    {
     "data": {
      "image/png": "[encoded data removed]",
      "text/plain": [
       "<Figure size 432x432 with 9 Axes>"
      ]
     },
     "metadata": {
      "needs_background": "light"
     },
     "output_type": "display_data"
    }
   ],
   "source": [
    "vp.plot(\n",
    "    n_samples=int(3e5),\n",
    "    plot_style={\"corner\": {\"truths\": params, \"labels\": [\"eta\", \"bias\", \"lapse\"]}},\n",
    ");"
   ]
  },
  {
   "attachments": {},
   "cell_type": "markdown",
   "metadata": {},
   "source": [
    "The blue lines represent the true generating parameters for the synthetic dataset."
   ]
  }
 ],
 "metadata": {
  "kernelspec": {
   "display_name": "base",
   "language": "python",
   "name": "python3"
  },
  "language_info": {
   "codemirror_mode": {
    "name": "ipython",
    "version": 3
   },
   "file_extension": ".py",
   "mimetype": "text/x-python",
   "name": "python",
   "nbconvert_exporter": "python",
   "pygments_lexer": "ipython3",
   "version": "3.9.7"
  },
  "orig_nbformat": 4
 },
 "nbformat": 4,
 "nbformat_minor": 2
}
