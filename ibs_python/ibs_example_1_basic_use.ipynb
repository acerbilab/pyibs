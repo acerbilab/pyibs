{
 "cells": [
  {
   "attachments": {},
   "cell_type": "markdown",
   "metadata": {},
   "source": [
    "### Example script for running IBS\n",
    "##### Example 1: Orientation Discrimination\n",
    "We use data generated from simple discrimination orientation model and calculate its log-likelihood using IBS.\n",
    "Because the analytical log-likelihood of this model is available, one can compare the results and verify the unbiasedness of the IBS estimator."
   ]
  },
  {
   "cell_type": "code",
   "execution_count": 1,
   "metadata": {},
   "outputs": [],
   "source": [
    "import numpy as np\n",
    "import numpy.random as npr\n",
    "import matplotlib.pyplot as plt\n",
    "from ibs import IBS\n",
    "from psycho_gen import psycho_gen\n",
    "from psycho_nll import psycho_nll"
   ]
  },
  {
   "cell_type": "code",
   "execution_count": 4,
   "metadata": {},
   "outputs": [
    {
     "name": "stdout",
     "output_type": "stream",
     "text": [
      "estimated negative log-likelihood 221.05348103196098\n",
      "estimated variance 17.085697848865586\n",
      "estimated negative log-likelihood (loop) 225.17023331874864\n",
      "estimated variance (loop) 17.189282517605932\n",
      "exact log-likelihood 221.43724801917898\n",
      "-------------------------------------------\n",
      "              neg_logl: 221.36214641754725\n",
      "          neg_logl_var: 17.04591810254807\n",
      "          neg_logl_std: 4.128670258394108\n",
      "             exit_flag: 0\n",
      "               message: 'Correct termination (the estimate is unbiased).'\n",
      "          elapsed_time: 0.004196499999999048\n",
      " num_samples_per_trial: 1.855\n",
      "             fun_count: 6\n"
     ]
    }
   ],
   "source": [
    "# Set up a psychometric function model of a simple orientation discrimination task\n",
    "\n",
    "sample_from_model = psycho_gen\n",
    "num_trials = 600\n",
    "eta = np.log(1)  # Fake subject (log) sensory noise\n",
    "bias = 0.2  # Fake subject response bias\n",
    "lapse = 0.03  # Fake subject lapse rate\n",
    "# Generating parameter vector\n",
    "params = np.array([eta, bias, lapse])\n",
    "\n",
    "# Generate stimulus orientation per trial\n",
    "design_matrix = 3 * npr.rand(num_trials)\n",
    "# Generate fake subject responses\n",
    "response_matrix = psycho_gen(params, design_matrix)\n",
    "\n",
    "# Create an ibs object and set up most of the options\n",
    "\n",
    "# IBS object with vectorized computation\n",
    "ibs = IBS(\n",
    "    sample_from_model,\n",
    "    response_matrix,\n",
    "    design_matrix,\n",
    "    vectorized=True,\n",
    "    acceleration=1.5,\n",
    "    num_samples_per_call=0,\n",
    "    max_iter=int(1e5),\n",
    "    max_time=np.inf,\n",
    ")\n",
    "# IBS object with loop computation\n",
    "ibs_loop = IBS(\n",
    "    sample_from_model,\n",
    "    response_matrix,\n",
    "    design_matrix,\n",
    "    vectorized=False,\n",
    "    acceleration=1.5,\n",
    "    num_samples_per_call=0,\n",
    "    max_iter=int(1e5),\n",
    "    max_time=np.inf,\n",
    ")\n",
    "\n",
    "# Call the IBS object to compute an estimate. We can pass additional options like what additional output we want\n",
    "neg_logl, neg_logl_var = ibs(\n",
    "    params,\n",
    "    num_reps=10,\n",
    "    trial_weights=None,\n",
    "    additional_output=\"var\",\n",
    "    return_positive=False,\n",
    ")\n",
    "neg_logl_loop, neg_logl_var_loop = ibs_loop(\n",
    "    params,\n",
    "    num_reps=10,\n",
    "    trial_weights=None,\n",
    "    additional_output=\"var\",\n",
    "    return_positive=False,\n",
    ")\n",
    "output = ibs(\n",
    "    params,\n",
    "    num_reps=10,\n",
    "    trial_weights=None,\n",
    "    additional_output=\"full\",\n",
    "    return_positive=False,\n",
    ")\n",
    "\n",
    "\n",
    "# Comparing estimated results to the true value\n",
    "print(\"estimated negative log-likelihood\", neg_logl)\n",
    "print(\"estimated variance\", neg_logl_var)\n",
    "print(\"estimated negative log-likelihood (loop)\", neg_logl_loop)\n",
    "print(\"estimated variance (loop)\", neg_logl_var_loop)\n",
    "print(\n",
    "    \"exact log-likelihood\", psycho_nll(params, design_matrix, response_matrix)\n",
    ")\n",
    "print(\"-------------------------------------------\")\n",
    "print(output)"
   ]
  },
  {
   "attachments": {},
   "cell_type": "markdown",
   "metadata": {},
   "source": [
    "We want to check the unbiasedness of the estimator by demonstrating that the log-likelihood estimates are centred around the true value.\n",
    "For 1000 different values of the parameter theta the estimate of the log-likelihood and its standard deviation are calculated using IBS and then the standard score (z-score) of the estimate is calculated. A histogram of the z-scores is plotted. The z-scores should approximate a standard normal distribution (mean 0, SD 1)."
   ]
  },
  {
   "cell_type": "code",
   "execution_count": 5,
   "metadata": {},
   "outputs": [
    {
     "data": {
      "image/png": "[encoded data removed]",
      "text/plain": [
       "<Figure size 432x288 with 1 Axes>"
      ]
     },
     "metadata": {
      "needs_background": "light"
     },
     "output_type": "display_data"
    }
   ],
   "source": [
    "sample_from_model = psycho_gen\n",
    "num_trials = 600\n",
    "eta = np.linspace(np.log(0.01), np.log(1), num=10)\n",
    "bias = np.linspace(0.05, 0.3, num=10)\n",
    "lapse = np.linspace(0.005, 0.05, num=10)\n",
    "params = np.array(np.meshgrid(eta, bias, lapse)).T.reshape(-1, 3)\n",
    "design_matrix = 3 * npr.rand(num_trials)\n",
    "num_experiments = params.shape[0]\n",
    "z_scores = np.zeros(num_experiments)\n",
    "\n",
    "for i in range(num_experiments):\n",
    "    response_matrix = psycho_gen(params[i], design_matrix)\n",
    "    ibs = IBS(\n",
    "        sample_from_model,\n",
    "        response_matrix,\n",
    "        design_matrix,\n",
    "        vectorized=True,\n",
    "        acceleration=1.5,\n",
    "        num_samples_per_call=0,\n",
    "        max_iter=int(1e5),\n",
    "        max_time=np.inf,\n",
    "    )\n",
    "    neg_logl, neg_logl_std = ibs(\n",
    "        params[i],\n",
    "        num_reps=10,\n",
    "        trial_weights=None,\n",
    "        additional_output=\"std\",\n",
    "        return_positive=True,\n",
    "    )\n",
    "    neg_logl_exact = psycho_nll(params[i], design_matrix, response_matrix)\n",
    "    z_scores[i] = (neg_logl_exact + neg_logl) / neg_logl_std\n",
    "\n",
    "\n",
    "plt.hist(z_scores, bins=16, density=False)\n",
    "# Plot standard normal distribution in the same graph\n",
    "x = np.linspace(-5, 5, 100)\n",
    "plt.plot(\n",
    "    x,\n",
    "    (num_experiments * 5 / 6) * np.exp(-(x**2) / 2) / np.sqrt(2 * np.pi) / 2,\n",
    "    color=\"red\",\n",
    ")\n",
    "plt.show()\n",
    "\n",
    "if np.abs(np.mean(z_scores)) > 0.15:\n",
    "    print(\"Warning: the mean of the z-scores is not close to zero\")\n",
    "if np.abs(np.std(z_scores) - 1) > 0.1:\n",
    "    print(\n",
    "        \"Warning: the standard deviation of the z-scores is not close to one\"\n",
    "    )"
   ]
  },
  {
   "attachments": {},
   "cell_type": "markdown",
   "metadata": {},
   "source": [
    "##### Example 2: Binomial Model\n",
    "Using IBS to compute log(p) of Bernoulli distribution with 1000 repeats. One can observe that the IBS estimates are close to the true value and calibrated.\n"
   ]
  },
  {
   "cell_type": "code",
   "execution_count": 6,
   "metadata": {},
   "outputs": [
    {
     "data": {
      "image/png": "[encoded data removed]",
      "text/plain": [
       "<Figure size 432x288 with 1 Axes>"
      ]
     },
     "metadata": {
      "needs_background": "light"
     },
     "output_type": "display_data"
    }
   ],
   "source": [
    "num_reps = 1000\n",
    "\n",
    "# Binomial probability model\n",
    "p_model = np.exp(np.linspace(np.log(0.01), np.log(1), num=10))\n",
    "\n",
    "\n",
    "def sample_from_model(x, design_matrix):\n",
    "    if design_matrix is None:\n",
    "        return int(np.random.rand(1) < x)\n",
    "    else:\n",
    "        return np.vectorize(int)(np.random.rand(design_matrix.size) < x)\n",
    "\n",
    "\n",
    "response_matrix = sample_from_model(1, None)\n",
    "neg_logl = np.zeros(len(p_model))\n",
    "neg_logl_std = np.zeros(len(p_model))\n",
    "ibs = IBS(\n",
    "    sample_from_model,\n",
    "    response_matrix,\n",
    "    None,\n",
    "    vectorized=True,\n",
    "    acceleration=1.5,\n",
    "    num_samples_per_call=0,\n",
    "    max_iter=int(1e5),\n",
    "    max_time=np.inf,\n",
    ")\n",
    "\n",
    "for i in range(len(p_model)):\n",
    "    neg_logl[i], neg_logl_std[i] = ibs(\n",
    "        p_model[i],\n",
    "        num_reps=num_reps,\n",
    "        trial_weights=None,\n",
    "        additional_output=\"std\",\n",
    "        return_positive=True,\n",
    "    )\n",
    "\n",
    "# We expect the true value to be almost certainly in this range\n",
    "LL_min = neg_logl - 4 * neg_logl_std\n",
    "LL_max = neg_logl + 4 * neg_logl_std\n",
    "if np.any(np.log(p_model) < LL_min) or np.any(np.log(p_model) > LL_max):\n",
    "    print(\"Warning: true value is not in the confidence interval\")\n",
    "\n",
    "# Plot the true log(p) vs the estimated log(p)\n",
    "plt.plot(np.log(p_model), np.log(p_model), color=\"black\")\n",
    "plt.plot(np.log(p_model), neg_logl, color=\"red\")\n",
    "plt.fill_between(\n",
    "    np.log(p_model),\n",
    "    neg_logl - 1.96 * neg_logl_std,\n",
    "    neg_logl + 1.96 * neg_logl_std,\n",
    "    color=\"red\",\n",
    "    alpha=0.1,\n",
    ")\n",
    "plt.legend([\"True log(p)\", \"Estimated log(p) (95% CI)\"])\n",
    "plt.show()"
   ]
  },
  {
   "attachments": {},
   "cell_type": "markdown",
   "metadata": {},
   "source": [
    "We use IBS to compute the log-likelihood of a binomial distribution with 100 trials per each of the 2000 experiments. The z-scores of each estimate are calculated. We can observe that the z-scores follow approximately a standard normal distribution (mean 0, SD 1)."
   ]
  },
  {
   "cell_type": "code",
   "execution_count": 7,
   "metadata": {},
   "outputs": [
    {
     "data": {
      "image/png": "[encoded data removed]",
      "text/plain": [
       "<Figure size 432x288 with 1 Axes>"
      ]
     },
     "metadata": {
      "needs_background": "light"
     },
     "output_type": "display_data"
    }
   ],
   "source": [
    "num_trials = 100\n",
    "\n",
    "# Binomial probability model\n",
    "p_model = 0.9 * np.random.rand() + 0.05\n",
    "p_true = 0.9 * np.random.rand() + 0.05\n",
    "\n",
    "\n",
    "def sample_from_model(x, design_matrix):\n",
    "    if design_matrix is None:\n",
    "        return int(np.random.rand(1) < x)\n",
    "    else:\n",
    "        return np.random.rand(np.size(design_matrix)) < x\n",
    "\n",
    "\n",
    "num_experiments = 2 * 10**3\n",
    "z_scores = np.zeros(num_experiments)\n",
    "for i in range(num_experiments):\n",
    "    response_matrix = sample_from_model(p_true, np.zeros(num_trials))\n",
    "    ibs = IBS(\n",
    "        sample_from_model,\n",
    "        response_matrix,\n",
    "        None,\n",
    "        vectorized=True,\n",
    "        acceleration=1.5,\n",
    "        num_samples_per_call=0,\n",
    "        max_iter=int(1e5),\n",
    "        max_time=np.inf,\n",
    "    )\n",
    "    neg_logl, neg_logl_std = ibs(\n",
    "        p_model,\n",
    "        num_reps=10,\n",
    "        trial_weights=None,\n",
    "        additional_output=\"std\",\n",
    "        return_positive=True,\n",
    "    )\n",
    "    neg_logl_exact = np.log(p_model) * np.sum(response_matrix) + np.log(\n",
    "        1 - p_model\n",
    "    ) * np.sum(response_matrix == False)\n",
    "    z_scores[i] = (neg_logl_exact - neg_logl) / neg_logl_std\n",
    "plt.hist(z_scores, bins=16, density=False)\n",
    "# plot standard normal distribution in the same graph\n",
    "x = np.linspace(-5, 5, 100)\n",
    "plt.plot(\n",
    "    x,\n",
    "    (num_experiments * 5 / 6) * np.exp(-(x**2) / 2) / np.sqrt(2 * np.pi) / 2,\n",
    "    color=\"red\",\n",
    ")\n",
    "plt.show()\n",
    "\n",
    "if np.abs(np.mean(z_scores)) > 0.15:\n",
    "    print(\"Warning: the mean of the z-scores is not close to zero\")\n",
    "if np.abs(np.std(z_scores) - 1) > 0.1:\n",
    "    print(\n",
    "        \"Warning: the standard deviation of the z-scores is not close to one\"\n",
    "    )"
   ]
  }
 ],
 "metadata": {
  "kernelspec": {
   "display_name": "base",
   "language": "python",
   "name": "python3"
  },
  "language_info": {
   "codemirror_mode": {
    "name": "ipython",
    "version": 3
   },
   "file_extension": ".py",
   "mimetype": "text/x-python",
   "name": "python",
   "nbconvert_exporter": "python",
   "pygments_lexer": "ipython3",
   "version": "3.9.7"
  },
  "orig_nbformat": 4
 },
 "nbformat": 4,
 "nbformat_minor": 2
}
