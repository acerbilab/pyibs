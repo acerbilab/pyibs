{
 "cells": [
  {
   "attachments": {},
   "cell_type": "markdown",
   "metadata": {},
   "source": [
    "### Example script for running the basic IBS implementation\n",
    "We use data generated from simple discrimination orientation model and calculate its log-likelihood using IBS.\n",
    "Because the analytical log-likelihood of this model is available, one can compare the results and verify the unbiasdness of the IBS estimator."
   ]
  },
  {
   "cell_type": "code",
   "execution_count": 1,
   "metadata": {},
   "outputs": [],
   "source": [
    "import numpy as np\n",
    "import numpy.random as npr\n",
    "import matplotlib.pyplot as plt\n",
    "from ibs_basic import ibs_basic\n",
    "from psycho_generator import psycho_generator\n",
    "from psycho_neg_logl import psycho_neg_logl"
   ]
  },
  {
   "cell_type": "code",
   "execution_count": 2,
   "metadata": {},
   "outputs": [],
   "source": [
    "# Generate simulated dataset\n",
    "\n",
    "num_trials = 600\n",
    "eta = np.log(1)  # Fake subject (log) sensory noise\n",
    "bias = 0.2  # Fake subject response bias\n",
    "lapse = 0.03  # Fake subject lapse rate\n",
    "# Generating parameter vector\n",
    "theta_true = np.array([eta, bias, lapse])\n",
    "\n",
    "# Generate stimulus orientation per trial\n",
    "S = 3 * npr.normal(size=num_trials)\n",
    "\n",
    "# Generate fake subject responses\n",
    "R = psycho_generator(theta_true, S)"
   ]
  },
  {
   "cell_type": "code",
   "execution_count": 5,
   "metadata": {},
   "outputs": [
    {
     "name": "stdout",
     "output_type": "stream",
     "text": [
      "exact log-likelihood: -162.51024321773707\n",
      "log-likelihood obtained with IBS: -161.19516338653773\n"
     ]
    }
   ],
   "source": [
    "# Comparing estimated result to true value\n",
    "print(\"exact log-likelihood:\", -psycho_neg_logl(theta_true, S, R))\n",
    "print(\n",
    "    \"log-likelihood obtained with IBS:\",\n",
    "    ibs_basic(psycho_generator, theta_true, R, S),\n",
    ")"
   ]
  },
  {
   "attachments": {},
   "cell_type": "markdown",
   "metadata": {},
   "source": [
    "I want to check the unbiasedness of the estimator by showing that the log-likelihood estimates are centred on the true value.\n",
    "The bias function calculates 1000 log-likelihood estimates and returns an array with the difference between the estimates and the true value. A histogram of these estimates is then plotted. It can be seen that the distribution is centred around 0 and approximately Gaussian."
   ]
  },
  {
   "cell_type": "code",
   "execution_count": 8,
   "metadata": {},
   "outputs": [],
   "source": [
    "def bias(num_trials, theta, num_reps=1000):\n",
    "    \"\"\"\n",
    "    Calculate vector of differences between IBS estimates and the true log-likelihood values.\n",
    "\n",
    "    Parameters:\n",
    "    ----------\n",
    "    num_trials: int\n",
    "        Number of trials for which to calculate the bias of the IBS estimator.\n",
    "    theta: np.array with 3 elements\n",
    "        The parameter vector, with theta(0) as eta=log(sigma), the log of the sensory noise,\n",
    "        theta(1) as the bias term, theta(2) as the lapse rate.\n",
    "    num_reps: int, optional\n",
    "        The number of differences to calculate, default = 1000.\n",
    "\n",
    "    Returns:\n",
    "    ----------\n",
    "    b: np.array\n",
    "        The vector of differences between IBS estimates and the true log-likelihood values.\n",
    "    \"\"\"\n",
    "\n",
    "    # Generate stimulus orientation per trial\n",
    "    S = 3 * npr.normal(size=num_trials, scale=3)\n",
    "    # Calculate bias = estimate - true value\n",
    "    b = np.zeros(num_reps)\n",
    "    for i in range(num_reps):\n",
    "        R = psycho_generator(theta, S)\n",
    "        L = psycho_neg_logl(theta, S, R)\n",
    "        b[i] = L + ibs_basic(psycho_generator, theta, R, S)\n",
    "    return b"
   ]
  },
  {
   "cell_type": "code",
   "execution_count": 10,
   "metadata": {},
   "outputs": [
    {
     "data": {
      "image/png": "[encoded data removed]",
      "text/plain": [
       "<Figure size 432x288 with 1 Axes>"
      ]
     },
     "metadata": {
      "needs_background": "light"
     },
     "output_type": "display_data"
    },
    {
     "name": "stdout",
     "output_type": "stream",
     "text": [
      "The mean of the bias is -0.07494483117025652\n"
     ]
    }
   ],
   "source": [
    "b = bias(num_trials, theta_true)\n",
    "plt.hist(b, bins=20, density=True)\n",
    "plt.title(\"Distribution of the bias\")\n",
    "plt.show()\n",
    "print(\"The mean of the bias is\", np.mean(b))"
   ]
  }
 ],
 "metadata": {
  "kernelspec": {
   "display_name": "base",
   "language": "python",
   "name": "python3"
  },
  "language_info": {
   "codemirror_mode": {
    "name": "ipython",
    "version": 3
   },
   "file_extension": ".py",
   "mimetype": "text/x-python",
   "name": "python",
   "nbconvert_exporter": "python",
   "pygments_lexer": "ipython3",
   "version": "3.9.7"
  },
  "orig_nbformat": 4
 },
 "nbformat": 4,
 "nbformat_minor": 2
}
