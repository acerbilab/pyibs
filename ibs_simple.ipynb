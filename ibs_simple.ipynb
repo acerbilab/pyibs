{
 "cells": [
  {
   "cell_type": "markdown",
   "id": "33504253",
   "metadata": {},
   "source": [
    "# Inverse Binomial Sampling (IBS)"
   ]
  },
  {
   "cell_type": "code",
   "execution_count": 2,
   "id": "c634e198",
   "metadata": {},
   "outputs": [],
   "source": [
    "import numpy as np\n",
    "import numpy.random as npr"
   ]
  },
  {
   "cell_type": "code",
   "execution_count": 3,
   "id": "8d30fb46",
   "metadata": {},
   "outputs": [],
   "source": [
    "def ibs_basic(fun,theta,R,S=None):\n",
    "    \"\"\"Returns an unbiased estimate L of the log-likelihood for the \n",
    "    simulated model and data, calculated using inverse binomial sampling.\n",
    "    \n",
    "    \n",
    "    Input:\n",
    "    fun: function\n",
    "        A function handle to a function that simulates the model's responses. Takes as input \n",
    "        a vector of parameters 'theta' and a row of 'S', and generates one row of the \n",
    "        response matrix.\n",
    "    theta: np.array \n",
    "        used as input to fun to generate the response\n",
    "    R: np.array \n",
    "        response matrix, each row corrisponds to one observation and\n",
    "        each column to a response feature\n",
    "    S: np.array, optional \n",
    "        stimulus matrix, each row corrisponds to one observation\n",
    "        \n",
    "    Returns:\n",
    "    L : float\n",
    "        The log-likelihood.\n",
    "    \"\"\"\n",
    "    N = len(R)\n",
    "    L = np.zeros(N)\n",
    "    if R.ndim == 1:\n",
    "        S = np.atleast_2d(S).transpose()\n",
    "        R = np.atleast_2d(R).transpose()\n",
    "    for i in range(N):\n",
    "        K = 1\n",
    "        while not (fun(theta, S[i,:]) == R[i,:]).all():\n",
    "            K += 1  # Sample until the generated response is a match\n",
    "        L[i] = -np.sum(1 / np.arange(1, K))  # IBS estimator for the i-th trial\n",
    "\n",
    "    return np.sum(L)  # Return summed log-likelihood"
   ]
  },
  {
   "cell_type": "code",
   "execution_count": 4,
   "id": "c834a31e",
   "metadata": {},
   "outputs": [],
   "source": [
    "def psycho_gen(theta, S):\n",
    "    \"\"\"\n",
    "    Generate responses for psychometric function model\n",
    "    (simple orientation discrimination task).\n",
    "    \n",
    "    Inputs:\n",
    "    S: np.array\n",
    "        stimulus orientation (in deg) for each trial\n",
    "    theta: np.array with 3 elements\n",
    "        model parameter vector, with THETA(0) as eta=log(sigma),\n",
    "        the log of the sensory noise; THETA(1) the bias term;\n",
    "        THETA(2) is the lapse rate\n",
    "    \n",
    "    Returns:\n",
    "    R: np.array\n",
    "        responses per trial, 1 for \"rightwards\" and -1 for \"leftwards\"\n",
    "    \"\"\"\n",
    "    # Extract model parameters\n",
    "    sigma = np.exp(theta[0])\n",
    "    bias = theta[1]\n",
    "    lapse = theta[2]\n",
    "\n",
    "    # Noisy measurement\n",
    "    X = S + sigma * npr.randn(np.size(S))\n",
    "\n",
    "    # Decision rule\n",
    "    R = np.zeros(np.size(S))\n",
    "    R[X >= bias] = 1\n",
    "    R[X < bias] = -1\n",
    "\n",
    "    # Lapses\n",
    "    lapse_idx = npr.rand(np.size(S)) < lapse\n",
    "    lapse_val = npr.randint(2, size=np.sum(lapse_idx)) * 2 - 1\n",
    "    R[lapse_idx] = lapse_val\n",
    "\n",
    "    return R\n"
   ]
  },
  {
   "cell_type": "code",
   "execution_count": 5,
   "id": "37d2ad35",
   "metadata": {},
   "outputs": [],
   "source": [
    "from scipy.stats import norm\n",
    "\n",
    "def psycho_nll(theta, S, R):\n",
    "    \"\"\"Negative log-likelihood for psychometric function model.\n",
    "    \n",
    "    Inputs:\n",
    "    S: np.array\n",
    "        stimulus orientation (in deg) for each trial\n",
    "    theta: np.array with 3 elements\n",
    "        model parameter vector, with THETA(1) as eta=log(sigma),\n",
    "        the log of the sensory noise; THETA(2) the bias term;\n",
    "        THETA(3) is the lapse rate\n",
    "    R: np.array\n",
    "        vector of responses, 1 for \"rightwards\" and -1 for \"leftwards\"\n",
    "\n",
    "    Returns:\n",
    "    L: float\n",
    "        negative log-likelihood\n",
    "    \"\"\"\n",
    "    \n",
    "    # Extract model parameters\n",
    "    sigma = np.exp(theta[0])\n",
    "    bias = theta[1]\n",
    "    lapse = theta[2]\n",
    "    \n",
    "    # Likelihood per trial (analytical solution)\n",
    "    \n",
    "    p_vec = lapse / 2 + (1 - lapse) * ((R == -1) * norm.cdf(-(S - bias) / sigma) + (R == 1) * norm.cdf((S - bias) / sigma))\n",
    "\n",
    "    # Total negative log-likelihood\n",
    "    L = -np.sum(np.log(p_vec))\n",
    "\n",
    "    return L"
   ]
  },
  {
   "cell_type": "code",
   "execution_count": 7,
   "id": "3ba7e2aa",
   "metadata": {},
   "outputs": [
    {
     "name": "stdout",
     "output_type": "stream",
     "text": [
      "exact log-likelihood: -225.35206830360363\n",
      "log-likelihood obtained with IBS: -228.44383300262677\n"
     ]
    }
   ],
   "source": [
    "# Generate simulated dataset\n",
    "\n",
    "Ntrials = 600\n",
    "eta = np.log(1) #Fake subject (log) sensory noise\n",
    "bias = 0.2  # Fake subject response bias\n",
    "lapse = 0.03 # Fake subject lapse rate\n",
    "# Generating parameter vector\n",
    "theta_true = np.array([eta, bias, lapse])\n",
    "\n",
    "# Generate stimulus orientation per trial\n",
    "S = 3*npr.rand(Ntrials)\n",
    "# Generate fake subject responses\n",
    "R = psycho_gen(theta_true,S)\n",
    "\n",
    "print('exact log-likelihood:',-psycho_nll(theta_true, S, R))\n",
    "print('log-likelihood obtained with IBS:',ibs_basic(psycho_gen,theta_true,R,S))"
   ]
  },
  {
   "attachments": {},
   "cell_type": "markdown",
   "id": "cebde5fa",
   "metadata": {},
   "source": [
    "I want to check the unbiasedness of the estimator by demonstrating that the log-likelihood estimates are centred on the true value.\n",
    "The bias_check function calculates 1000 log-likelihood estimates and returns an array with the difference between the estimates and the true value. A histogram of these estimates is then plotted. It can be seen that the distribution is centred around 0 and approximately Gaussian."
   ]
  },
  {
   "cell_type": "code",
   "execution_count": 12,
   "id": "b7c6db1e",
   "metadata": {},
   "outputs": [],
   "source": [
    "def bias_check(Ntrials, theta, nreps=1000):\n",
    "    \"\"\"Retrun the bias of the IBS estimator for the log-likelihood.\n",
    "    \n",
    "    Inputs:\n",
    "    Ntrials: int\n",
    "        number of trials for which to calculate the log-likelihood\n",
    "    theta: np.array\n",
    "        model parameter vector, with THETA(1) as eta=log(sigma),\n",
    "        the log of the sensory noise; THETA(2) the bias term;\n",
    "        THETA(3) is the lapse rate\n",
    "    nreps: int, optional\n",
    "        number of repetitions to calculate the bias\n",
    "    \n",
    "    Returns:\n",
    "    b: np.array\n",
    "        bias (estimate - true value) of the IBS estimator for the log-likelihood\n",
    "        vector of length nreps\n",
    "    \"\"\"\n",
    "    \n",
    "\n",
    "    # Generate stimulus orientation per trial\n",
    "    S = 3*npr.rand(Ntrials)\n",
    "    # Generate fake subject responses\n",
    "    R = psycho_gen(theta_true,S)\n",
    "    \n",
    "    # Calculate log-likelihood\n",
    "    L = psycho_nll(theta_true, S, R)\n",
    "    \n",
    "    # Calculate bias = estimate - true value\n",
    "    b = np.zeros(nreps)\n",
    "    for i in range(nreps):\n",
    "        b[i] = L + ibs_basic(psycho_gen,theta_true,R,S)\n",
    "    return b"
   ]
  },
  {
   "cell_type": "code",
   "execution_count": 13,
   "id": "028e4883",
   "metadata": {},
   "outputs": [
    {
     "data": {
      "text/plain": [
       "Text(0.5, 1.0, 'Distribution of the bias')"
      ]
     },
     "execution_count": 13,
     "metadata": {},
     "output_type": "execute_result"
    },
    {
     "data": {
      "image/png": "[encoded data removed]",
      "text/plain": [
       "<Figure size 432x288 with 1 Axes>"
      ]
     },
     "metadata": {
      "needs_background": "light"
     },
     "output_type": "display_data"
    }
   ],
   "source": [
    "import matplotlib.pyplot as plt\n",
    "Ntrials = 600\n",
    "eta = np.log(1)\n",
    "bias = 0.2\n",
    "lapse = 0.03\n",
    "theta_true = np.array([eta,bias,lapse])\n",
    "b = bias_check(Ntrials, theta_true)\n",
    "plt.hist(b, bins=50, density=True)\n",
    "plt.title('Distribution of the bias')"
   ]
  },
  {
   "attachments": {},
   "cell_type": "markdown",
   "id": "9ece3401",
   "metadata": {},
   "source": [
    "Let's see how fast the code runs. The same function in MATLAB takes on average 16.3 ms to run."
   ]
  },
  {
   "cell_type": "code",
   "execution_count": 29,
   "id": "99b00f06",
   "metadata": {},
   "outputs": [
    {
     "name": "stdout",
     "output_type": "stream",
     "text": [
      "127 ms ± 21.9 ms per loop (mean ± std. dev. of 7 runs, 1 loop each)\n"
     ]
    }
   ],
   "source": [
    "%timeit _ = ibs_basic(psycho_gen,theta_true,R,S)"
   ]
  }
 ],
 "metadata": {
  "kernelspec": {
   "display_name": "base",
   "language": "python",
   "name": "python3"
  },
  "language_info": {
   "codemirror_mode": {
    "name": "ipython",
    "version": 3
   },
   "file_extension": ".py",
   "mimetype": "text/x-python",
   "name": "python",
   "nbconvert_exporter": "python",
   "pygments_lexer": "ipython3",
   "version": "3.9.7"
  },
  "vscode": {
   "interpreter": {
    "hash": "cb57b3ccfe62c6746bf3247651268e5f45d4314d13d2f08503817b1c05971834"
   }
  }
 },
 "nbformat": 4,
 "nbformat_minor": 5
}
