{
 "cells": [
  {
   "cell_type": "markdown",
   "id": "33504253",
   "metadata": {},
   "source": [
    "# Inverse Binomial Sampling (IBS)"
   ]
  },
  {
   "cell_type": "code",
   "execution_count": 1,
   "id": "c634e198",
   "metadata": {},
   "outputs": [],
   "source": [
    "import numpy as np\n",
    "import numpy.linalg as lg\n",
    "import scipy.linalg as slg\n",
    "import scipy.special as scs"
   ]
  },
  {
   "cell_type": "code",
   "execution_count": 64,
   "id": "8d30fb46",
   "metadata": {},
   "outputs": [],
   "source": [
    "def ibs_basic(fun,theta,R,S=None):\n",
    "    \"\"\"Returns an unbiased estimate L of the log-likelihood for the \n",
    "    simulated model and data, calculated using inverse binomial sampling.\n",
    "    \n",
    "    Input:\n",
    "    fun: function\n",
    "        A function handle to a function that simulates the model's responses. Takes as input \n",
    "        a vector of parameters 'theta' and a row of 'S', and generates one row of the \n",
    "        response matrix.\n",
    "    theta: np.array \n",
    "        used as input to fun to generate the response\n",
    "    R: np.array \n",
    "        response matrix, each row corrisponds to one obsercation and\n",
    "        each column to a response feature\n",
    "    S: np.array, optional \n",
    "        stimulus matrix, each row corrisponds to one observation\n",
    "        \n",
    "    Returns:\n",
    "    L : float\n",
    "        The log-likelihood.\n",
    "    \"\"\"\n",
    "    N = len(R)\n",
    "    L = np.zeros(N)\n",
    "\n",
    "    for i in range(N):\n",
    "        K = 1\n",
    "        while not np.equal(fun(theta, S[i]), R[i]):\n",
    "            K += 1  # Sample until the generated response is a match\n",
    "        L[i] = -np.sum(1 / np.arange(1, K))  # IBS estimator for the i-th trial\n",
    "\n",
    "    return np.sum(L)  # Return summed log-likelihood\n",
    "\n",
    "# to do: consider case where S and R are matrices"
   ]
  },
  {
   "cell_type": "code",
   "execution_count": 59,
   "id": "c834a31e",
   "metadata": {},
   "outputs": [],
   "source": [
    "import numpy as np\n",
    "import numpy.random as npr\n",
    "\n",
    "def psycho_gen(theta, S):\n",
    "    \"\"\"\n",
    "    Generate responses for psychometric function model\n",
    "    (simple orientation discrimination task).\n",
    "    \n",
    "    Inputs:\n",
    "    S: np.array\n",
    "        stimulus orientation (in deg) for each trial\n",
    "    theta: np.array with 3 elements\n",
    "        model parameter vector, with THETA(1) as eta=log(sigma),\n",
    "        the log of the sensory noise; THETA(2) the bias term;\n",
    "        THETA(3) is the lapse rate\n",
    "    \n",
    "    Returns:\n",
    "    R: np.array\n",
    "        responses per trial, 1 for \"rightwards\" and -1 for \"leftwards\"\n",
    "    \"\"\"\n",
    "    # Extract model parameters\n",
    "    sigma = np.exp(theta[0])\n",
    "    bias = theta[1]\n",
    "    lapse = theta[2]\n",
    "\n",
    "    # Noisy measurement\n",
    "    X = S + sigma * npr.randn(np.size(S))\n",
    "\n",
    "    # Decision rule\n",
    "    R = np.zeros(np.size(S))\n",
    "    R[X >= bias] = 1\n",
    "    R[X < bias] = -1\n",
    "\n",
    "    # Lapses\n",
    "    lapse_idx = npr.rand(np.size(S)) < lapse\n",
    "    lapse_val = npr.randint(2, size=np.sum(lapse_idx)) * 2 - 1\n",
    "    R[lapse_idx] = lapse_val\n",
    "\n",
    "    return R\n"
   ]
  },
  {
   "cell_type": "code",
   "execution_count": 47,
   "id": "37d2ad35",
   "metadata": {},
   "outputs": [],
   "source": [
    "from scipy.stats import norm\n",
    "\n",
    "def psycho_nll(theta, S, R):\n",
    "    \"\"\"Negative log-likelihood for psychometric function model.\n",
    "    \n",
    "    Inputs:\n",
    "    S: np.array\n",
    "        stimulus orientation (in deg) for each trial\n",
    "    theta: np.array with 3 elements\n",
    "        model parameter vector, with THETA(1) as eta=log(sigma),\n",
    "        the log of the sensory noise; THETA(2) the bias term;\n",
    "        THETA(3) is the lapse rate\n",
    "    R: np.array\n",
    "        vector of responses, 1 for \"rightwards\" and -1 for \"leftwards\"\n",
    "\n",
    "    Returns:\n",
    "    L: float\n",
    "        negative log-likelihood\n",
    "    \"\"\"\n",
    "    \n",
    "    # Extract model parameters\n",
    "    sigma = np.exp(theta[0])\n",
    "    bias = theta[1]\n",
    "    lapse = theta[2]\n",
    "    \n",
    "    # Likelihood per trial (analytical solution)\n",
    "    \n",
    "    p_vec = lapse / 2 + (1 - lapse) * ((R == -1) * norm.cdf(-(S - bias) / sigma) + (R == 1) * norm.cdf((S - bias) / sigma))\n",
    "\n",
    "    # Total negative log-likelihood\n",
    "    L = -np.sum(np.log(p_vec))\n",
    "\n",
    "    return L"
   ]
  },
  {
   "cell_type": "code",
   "execution_count": 81,
   "id": "3ba7e2aa",
   "metadata": {},
   "outputs": [
    {
     "name": "stdout",
     "output_type": "stream",
     "text": [
      "exact log-likelihood: -225.20963898592044\n",
      "log-likelihood obtained with IBS: -215.2080339218379\n"
     ]
    }
   ],
   "source": [
    "# Generate simulated dataset\n",
    "\n",
    "Ntrials = 600\n",
    "eta = log(1) #Fake subject (log) sensory noise\n",
    "bias = 0.2  # Fake subject bias\n",
    "lapse = 0.03 # Fake subject lapse rate\n",
    "# Generating parameter vector\n",
    "theta_true = np.array([eta,bias,lapse])\n",
    "\n",
    "# Generate stimulus orientation per trial\n",
    "S = 3*npr.rand(Ntrials)\n",
    "# Generate fake subject responses\n",
    "R = psycho_gen(theta_true,S)\n",
    "\n",
    "\n",
    "print('exact log-likelihood:',-psycho_nll(theta_true, S, R))\n",
    "\n",
    "print('log-likelihood obtained with IBS:',ibs_basic(psycho_gen,theta_true,R,S))"
   ]
  },
  {
   "cell_type": "code",
   "execution_count": null,
   "id": "6092a9d2",
   "metadata": {},
   "outputs": [],
   "source": [
    "# verify basic properties of the IBS estimator of the log-likelihood (e.g., unbiasedness)\n",
    "\n",
    "N = 1000\n",
    "L = np.zeros(N)\n",
    "L_true = -psycho_nll(theta_true, S, R)\n",
    "\n",
    "for i in range(N):\n",
    "    L[i] = ibs_basic(psycho_gen,theta_true,R,S)\n",
    "\n",
    "L_exp = np.mean(L)\n",
    "\n",
    "print('The bias is: ',L_exp - L_true)"
   ]
  }
 ],
 "metadata": {
  "kernelspec": {
   "display_name": "Python 3 (ipykernel)",
   "language": "python",
   "name": "python3"
  },
  "language_info": {
   "codemirror_mode": {
    "name": "ipython",
    "version": 3
   },
   "file_extension": ".py",
   "mimetype": "text/x-python",
   "name": "python",
   "nbconvert_exporter": "python",
   "pygments_lexer": "ipython3",
   "version": "3.9.7"
  }
 },
 "nbformat": 4,
 "nbformat_minor": 5
}
